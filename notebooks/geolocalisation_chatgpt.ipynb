{
 "cells": [
  {
   "cell_type": "markdown",
   "id": "538d7792",
   "metadata": {},
   "source": [
    "### Geolocalisation using ChatGPT"
   ]
  },
  {
   "cell_type": "markdown",
   "id": "76eddd2e",
   "metadata": {},
   "source": [
    "### Packages"
   ]
  },
  {
   "cell_type": "code",
   "execution_count": null,
   "id": "7b20e8de",
   "metadata": {},
   "outputs": [],
   "source": [
    "import cv2\n",
    "import base64\n",
    "from openai import AzureOpenAI\n",
    "import os"
   ]
  },
  {
   "cell_type": "markdown",
   "id": "f44b0827",
   "metadata": {},
   "source": [
    "### Functions"
   ]
  },
  {
   "cell_type": "code",
   "execution_count": null,
   "id": "14fedca8",
   "metadata": {},
   "outputs": [],
   "source": [
    "def geolocate_fig(file_path):\n",
    "    # Define prompt\n",
    "    prompt = [\n",
    "        \"You are a geoguesser, a person who can identify locations based on images.\",\n",
    "        \"Given the street view image, identify the location.\",\n",
    "        \"Please provide the following information using the json format:\",\n",
    "        \"{'country': 'Country name', 'city': 'City name', 'latitude': 'Latitude', 'longitude': 'Longitude'}\"\n",
    "    ]\n",
    "\n",
    "    prompt = \" \".join(prompt)\n",
    "\n",
    "    # Read figure\n",
    "    return responde_to_fig(file_path, prompt)\n",
    "\n",
    "def responde_to_fig(file_path, prompt):\n",
    "    # Read figure\n",
    "    fig = cv2.imread(file_path)\n",
    "\n",
    "    # Encode figure\n",
    "    retval, buffer = cv2.imencode(os.path.splitext(file_path_fig)[1], fig)\n",
    "    if not retval:\n",
    "        raise ValueError(\"Failed to convert image\")\n",
    "    fig_encoded = base64.b64encode(buffer).decode(\"utf-8\")\n",
    "\n",
    "    # Load environment variables\n",
    "    api_version = \"2024-03-01-preview\"\n",
    "    api_base_url = os.getenv(\"OPENAI_API_BASE\")\n",
    "    api_key = os.getenv(\"AZURE_OPENAI_API_KEY\")\n",
    "    deployment_name = os.getenv(\"AZURE_OPENAI_DEPLOYMENT_NAME\")\n",
    "\n",
    "    # Initialise large language model\n",
    "    model = AzureOpenAI(\n",
    "        api_key=api_key,\n",
    "        api_version=api_version,\n",
    "        base_url=f\"{api_base_url}/deployments/{deployment_name}\",\n",
    "    )\n",
    "\n",
    "    # Trigger model\n",
    "    response = model.chat.completions.create(\n",
    "        model=os.getenv(\"AZURE_OPENAI_DEPLOYMENT_NAME\"),\n",
    "        messages=[\n",
    "            {\n",
    "                \"role\": \"user\",\n",
    "                \"content\": [\n",
    "                    {\"type\": \"text\", \"text\": prompt},\n",
    "                    {\"type\": \"image_url\", \"image_url\": {\"url\": f\"data:image/png;base64,{fig_encoded}\", \"detail\": \"high\"}},\n",
    "                ],\n",
    "            }\n",
    "        ],\n",
    "        max_tokens=1000,\n",
    "        temperature=0.1,\n",
    "    )\n",
    "\n",
    "    # Return response\n",
    "    return response.choices[0].message.content"
   ]
  },
  {
   "cell_type": "markdown",
   "id": "3a9fe8f1",
   "metadata": {},
   "source": [
    "### Geolocalisation"
   ]
  },
  {
   "cell_type": "code",
   "execution_count": null,
   "id": "f7f7b263",
   "metadata": {},
   "outputs": [],
   "source": [
    "# %%\n",
    "file_path_fig = r\"c:\\Users\\white_rn\\Documents\\GitHub\\image_registration\\data\\images\\0.png\"\n",
    "\n",
    "# Describe figure\n",
    "description = geolocate_fig(file_path_fig)\n",
    "\n",
    "# Print description\n",
    "print(description)"
   ]
  }
 ],
 "metadata": {
  "kernelspec": {
   "display_name": ".venv",
   "language": "python",
   "name": "python3"
  },
  "language_info": {
   "codemirror_mode": {
    "name": "ipython",
    "version": 3
   },
   "file_extension": ".py",
   "mimetype": "text/x-python",
   "name": "python",
   "nbconvert_exporter": "python",
   "pygments_lexer": "ipython3",
   "version": "3.13.3"
  }
 },
 "nbformat": 4,
 "nbformat_minor": 5
}
