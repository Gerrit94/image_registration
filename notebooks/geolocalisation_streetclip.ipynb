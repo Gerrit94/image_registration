{
 "cells": [
  {
   "cell_type": "markdown",
   "id": "a990828f",
   "metadata": {},
   "source": [
    "## Geolocalisation using streetclip"
   ]
  },
  {
   "cell_type": "markdown",
   "id": "96f8cf0a",
   "metadata": {},
   "source": [
    "### Packages"
   ]
  },
  {
   "cell_type": "code",
   "execution_count": null,
   "id": "fb12469a",
   "metadata": {},
   "outputs": [],
   "source": [
    "# Load model directly\n",
    "from transformers import CLIPProcessor, CLIPModel\n",
    "from PIL import Image\n",
    "import requests\n",
    "import pandas as pd\n",
    "import geopandas as gpd"
   ]
  },
  {
   "cell_type": "markdown",
   "id": "75fbbd7f",
   "metadata": {},
   "source": [
    "### Settings"
   ]
  },
  {
   "cell_type": "code",
   "execution_count": null,
   "id": "0cf03f57",
   "metadata": {},
   "outputs": [],
   "source": [
    "# Get processor and model\n",
    "model = CLIPModel.from_pretrained(\"geolocal/StreetCLIP\")\n",
    "processor = CLIPProcessor.from_pretrained(\"geolocal/StreetCLIP\")\n"
   ]
  },
  {
   "cell_type": "code",
   "execution_count": null,
   "id": "1549f160",
   "metadata": {},
   "outputs": [],
   "source": [
    "# Get countries and cities\n",
    "file_path_cities = r'c:\\Users\\white_rn\\Documents\\GitHub\\image_registration\\data\\simplemaps_worldcities_basicv1.901\\worldcities.csv'\n",
    "df_cities = pd.read_csv(file_path_cities)\n",
    "gdf_cities = gpd.GeoDataFrame(df_cities, geometry=gpd.points_from_xy(df_cities.lng, df_cities.lat), crs=\"EPSG:4326\")\n",
    "countries = gdf_cities[\"country\"].unique().tolist()\n",
    "cities = gdf_cities[\"city\"].unique().tolist()\n",
    "print(f\"Total number of unique countries: {len(countries)}\")\n",
    "print(f\"Total number of unique cities:    {len(cities)}\")"
   ]
  },
  {
   "cell_type": "code",
   "execution_count": null,
   "id": "c866e327",
   "metadata": {},
   "outputs": [],
   "source": [
    "# Get image\n",
    "image_idx = 1\n",
    "urls = [\n",
    "    \"https://huggingface.co/geolocal/StreetCLIP/resolve/main/sanfrancisco.jpeg\",\n",
    "    \"https://www.discoverholland.com/product-images/948e5a43-41f5-4d1d-ae2a-4e79ecaed08a.jpg\",\n",
    "    \"https://media.indebuurt.nl/delft/2022/02/16141631/NieuweGracht2021.jpg\",\n",
    "    \"https://media.indebuurt.nl/delft/2022/02/16124419/stationsplein2020googlestreetview.jpg\",\n",
    "    \"https://media.indebuurt.nl/delft/2022/02/16141643/coenderstraat2021-1.jpg\",\n",
    "    \"https://st.depositphotos.com/2461183/3549/i/950/depositphotos_35491923-stock-photo-view-of-the-streets-in.jpg\",\n",
    "    \"https://thumbs.dreamstime.com/b/valencia-city-spain-street-view-beautiful-luxurious-building-palm-trees-sunny-day-102790750.jpg\",\n",
    "    \"https://thumbs.dreamstime.com/b/street-view-historical-center-valencia-spain-november-city-84349150.jpg\",\n",
    "]\n",
    "image = Image.open(requests.get(urls[image_idx], stream=True).raw)"
   ]
  },
  {
   "cell_type": "markdown",
   "id": "5f039c33",
   "metadata": {},
   "source": [
    "### Geolocalisation"
   ]
  },
  {
   "cell_type": "code",
   "execution_count": null,
   "id": "687f56a0",
   "metadata": {},
   "outputs": [],
   "source": [
    "# Wrapper around the model\n",
    "def model_wrapper(processor, model, choices, image):\n",
    "    \"\"\"\n",
    "    Apply the model to the image and choices, returning sorted labels and probabilities.\n",
    "    \"\"\"\n",
    "    # Prepare model inputs\n",
    "    inputs = processor(text=choices, images=image, return_tensors=\"pt\", padding=True)\n",
    "\n",
    "    # Get model outputs\n",
    "    outputs = model(**inputs)\n",
    "    logits_per_image = outputs.logits_per_image  # this is the image-text similarity score\n",
    "    probs = logits_per_image.softmax(dim=1)  # we can take the softmax to get the label probabilities\n",
    "\n",
    "    # Sort outputs\n",
    "    sorted_indices = probs[0].argsort(descending=True)\n",
    "    sorted_labels = [choices[i] for i in sorted_indices]\n",
    "    sorted_probs = probs[0][sorted_indices].tolist()\n",
    "\n",
    "    # Return sorted labels and probabilities\n",
    "    return sorted_labels, sorted_probs\n",
    "\n",
    "# Get countries from dataframe\n",
    "countries = gdf_cities[\"country\"].unique().tolist()\n",
    "print(f\"Number of unique countries: {len(countries)}\")\n",
    "\n",
    "# Get model predictions for countries\n",
    "countries, probs = model_wrapper(processor, model, countries, image)\n",
    "print(f\"Most probable country: {countries[0]} ({probs[0]:.4f})\")\n",
    "\n",
    "# Get cities in the most probable country\n",
    "gdf_cities_in_country = gdf_cities[gdf_cities[\"country\"] == countries[0]]\n",
    "cities = gdf_cities_in_country[\"city\"].unique().tolist()\n",
    "print(f\"Number of unique cities in {countries[0]}: {len(cities)}\")\n",
    "\n",
    "# Get model predictions for cities in the most probable country\n",
    "cities, probs = model_wrapper(processor, model, cities, image)\n",
    "print(f\"Most probable city: {cities[0]} ({probs[0]:.4f})\")"
   ]
  }
 ],
 "metadata": {
  "kernelspec": {
   "display_name": ".venv",
   "language": "python",
   "name": "python3"
  },
  "language_info": {
   "codemirror_mode": {
    "name": "ipython",
    "version": 3
   },
   "file_extension": ".py",
   "mimetype": "text/x-python",
   "name": "python",
   "nbconvert_exporter": "python",
   "pygments_lexer": "ipython3",
   "version": "3.13.3"
  }
 },
 "nbformat": 4,
 "nbformat_minor": 5
}
